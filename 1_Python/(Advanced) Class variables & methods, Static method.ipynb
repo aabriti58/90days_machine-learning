{
 "cells": [
  {
   "cell_type": "markdown",
   "id": "19b237af",
   "metadata": {},
   "source": [
    "## Class Methods and Class Variables"
   ]
  },
  {
   "cell_type": "code",
   "execution_count": 32,
   "id": "90cfdcb0",
   "metadata": {},
   "outputs": [],
   "source": [
    "class car:\n",
    "    base_price = 1000000 #class variables\n",
    "    def __init__(self,windows,doors,power):\n",
    "        self.windows = windows\n",
    "        self.doors = doors\n",
    "        self.power = power\n",
    "    def price(self): #self is with respect the instance of class\n",
    "        print(\"The base price is {}\".format(self.base_price))\n",
    "    @classmethod\n",
    "    def revise_price(cls,inflation):#cls is with respect to the class\n",
    "        cls.base_price += cls.base_price*inflation\n",
    "    @staticmethod\n",
    "    def check_year():\n",
    "        year=int(input(\"enter year:\"))\n",
    "        if year==2021:\n",
    "            return True\n",
    "        else:\n",
    "            return False"
   ]
  },
  {
   "cell_type": "code",
   "execution_count": 28,
   "id": "04cfaf5e",
   "metadata": {},
   "outputs": [],
   "source": [
    "car1 = (4,3,2000)"
   ]
  },
  {
   "cell_type": "code",
   "execution_count": 29,
   "id": "54ad2271",
   "metadata": {},
   "outputs": [
    {
     "data": {
      "text/plain": [
       "1000000"
      ]
     },
     "execution_count": 29,
     "metadata": {},
     "output_type": "execute_result"
    }
   ],
   "source": [
    "car.base_price"
   ]
  },
  {
   "cell_type": "code",
   "execution_count": 30,
   "id": "c2fa391f",
   "metadata": {},
   "outputs": [],
   "source": [
    "car.revise_price(0.3)"
   ]
  },
  {
   "cell_type": "code",
   "execution_count": 31,
   "id": "3fcf5250",
   "metadata": {},
   "outputs": [
    {
     "data": {
      "text/plain": [
       "1300000.0"
      ]
     },
     "execution_count": 31,
     "metadata": {},
     "output_type": "execute_result"
    }
   ],
   "source": [
    "car.base_price"
   ]
  },
  {
   "cell_type": "markdown",
   "id": "1a9dd902",
   "metadata": {},
   "source": [
    "## Static Methods"
   ]
  },
  {
   "cell_type": "code",
   "execution_count": 34,
   "id": "aaca7bd8",
   "metadata": {},
   "outputs": [
    {
     "name": "stdout",
     "output_type": "stream",
     "text": [
      "enter year:2020\n"
     ]
    },
    {
     "data": {
      "text/plain": [
       "False"
      ]
     },
     "execution_count": 34,
     "metadata": {},
     "output_type": "execute_result"
    }
   ],
   "source": [
    "car.check_year()"
   ]
  },
  {
   "cell_type": "code",
   "execution_count": 36,
   "id": "400bee59",
   "metadata": {},
   "outputs": [],
   "source": [
    "car1 = car(6,2,3000)"
   ]
  },
  {
   "cell_type": "code",
   "execution_count": 43,
   "id": "3cc51f7e",
   "metadata": {},
   "outputs": [
    {
     "name": "stdout",
     "output_type": "stream",
     "text": [
      "enter year:2021\n"
     ]
    }
   ],
   "source": [
    "if(car1.check_year()):\n",
    "    pass\n",
    "else:\n",
    "    car.revise_price(0.2)"
   ]
  },
  {
   "cell_type": "code",
   "execution_count": 44,
   "id": "d888bf8c",
   "metadata": {},
   "outputs": [
    {
     "data": {
      "text/plain": [
       "1200000.0"
      ]
     },
     "execution_count": 44,
     "metadata": {},
     "output_type": "execute_result"
    }
   ],
   "source": [
    "car1.base_price"
   ]
  },
  {
   "cell_type": "code",
   "execution_count": null,
   "id": "b7fd71c5",
   "metadata": {},
   "outputs": [],
   "source": []
  }
 ],
 "metadata": {
  "kernelspec": {
   "display_name": "Python 3",
   "language": "python",
   "name": "python3"
  },
  "language_info": {
   "codemirror_mode": {
    "name": "ipython",
    "version": 3
   },
   "file_extension": ".py",
   "mimetype": "text/x-python",
   "name": "python",
   "nbconvert_exporter": "python",
   "pygments_lexer": "ipython3",
   "version": "3.9.5"
  }
 },
 "nbformat": 4,
 "nbformat_minor": 5
}
