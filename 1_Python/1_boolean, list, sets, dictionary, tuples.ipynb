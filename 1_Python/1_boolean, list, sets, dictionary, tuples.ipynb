{
 "cells": [
  {
   "cell_type": "markdown",
   "id": "6e6312fd",
   "metadata": {},
   "source": [
    "# Boolean variables\n",
    "- two constants object True and False"
   ]
  },
  {
   "cell_type": "code",
   "execution_count": 649,
   "id": "5100e404",
   "metadata": {},
   "outputs": [
    {
     "data": {
      "text/plain": [
       "bool"
      ]
     },
     "execution_count": 649,
     "metadata": {},
     "output_type": "execute_result"
    }
   ],
   "source": [
    "type(True)"
   ]
  },
  {
   "cell_type": "code",
   "execution_count": 650,
   "id": "2d157840",
   "metadata": {},
   "outputs": [
    {
     "data": {
      "text/plain": [
       "bool"
      ]
     },
     "execution_count": 650,
     "metadata": {},
     "output_type": "execute_result"
    }
   ],
   "source": [
    "type(False)"
   ]
  },
  {
   "cell_type": "code",
   "execution_count": 651,
   "id": "6985f1f2",
   "metadata": {},
   "outputs": [],
   "source": [
    "my_str = \"1heythere\""
   ]
  },
  {
   "cell_type": "code",
   "execution_count": 652,
   "id": "dcaf88d4",
   "metadata": {},
   "outputs": [
    {
     "data": {
      "text/plain": [
       "True"
      ]
     },
     "execution_count": 652,
     "metadata": {},
     "output_type": "execute_result"
    }
   ],
   "source": [
    "my_str.isalnum() #string is alpha+num or not?"
   ]
  },
  {
   "cell_type": "code",
   "execution_count": 653,
   "id": "e01478d8",
   "metadata": {},
   "outputs": [
    {
     "data": {
      "text/plain": [
       "False"
      ]
     },
     "execution_count": 653,
     "metadata": {},
     "output_type": "execute_result"
    }
   ],
   "source": [
    "my_str.isalpha() #string is alphabet or not?"
   ]
  },
  {
   "cell_type": "code",
   "execution_count": 654,
   "id": "724e188e",
   "metadata": {},
   "outputs": [
    {
     "data": {
      "text/plain": [
       "False"
      ]
     },
     "execution_count": 654,
     "metadata": {},
     "output_type": "execute_result"
    }
   ],
   "source": [
    "my_str.istitle() #string contains first letter capital or not?"
   ]
  },
  {
   "cell_type": "code",
   "execution_count": 655,
   "id": "234c8040",
   "metadata": {},
   "outputs": [
    {
     "data": {
      "text/plain": [
       "True"
      ]
     },
     "execution_count": 655,
     "metadata": {},
     "output_type": "execute_result"
    }
   ],
   "source": [
    "my_str.islower()"
   ]
  },
  {
   "cell_type": "code",
   "execution_count": 656,
   "id": "9dcf9239",
   "metadata": {},
   "outputs": [
    {
     "data": {
      "text/plain": [
       "False"
      ]
     },
     "execution_count": 656,
     "metadata": {},
     "output_type": "execute_result"
    }
   ],
   "source": [
    "my_str.isupper()"
   ]
  },
  {
   "cell_type": "code",
   "execution_count": 657,
   "id": "d5f7f278",
   "metadata": {},
   "outputs": [
    {
     "data": {
      "text/plain": [
       "False"
      ]
     },
     "execution_count": 657,
     "metadata": {},
     "output_type": "execute_result"
    }
   ],
   "source": [
    "my_str.isspace()"
   ]
  },
  {
   "cell_type": "code",
   "execution_count": 658,
   "id": "0d5c6bc1",
   "metadata": {},
   "outputs": [
    {
     "data": {
      "text/plain": [
       "True"
      ]
     },
     "execution_count": 658,
     "metadata": {},
     "output_type": "execute_result"
    }
   ],
   "source": [
    "my_str.endswith('e')"
   ]
  },
  {
   "cell_type": "markdown",
   "id": "fd9ef66b",
   "metadata": {},
   "source": [
    "## Boolean and Logical Operators"
   ]
  },
  {
   "cell_type": "code",
   "execution_count": 659,
   "id": "13d57086",
   "metadata": {},
   "outputs": [
    {
     "data": {
      "text/plain": [
       "True"
      ]
     },
     "execution_count": 659,
     "metadata": {},
     "output_type": "execute_result"
    }
   ],
   "source": [
    "True and True"
   ]
  },
  {
   "cell_type": "code",
   "execution_count": 660,
   "id": "a9edc546",
   "metadata": {},
   "outputs": [
    {
     "data": {
      "text/plain": [
       "False"
      ]
     },
     "execution_count": 660,
     "metadata": {},
     "output_type": "execute_result"
    }
   ],
   "source": [
    "True and False"
   ]
  },
  {
   "cell_type": "code",
   "execution_count": 661,
   "id": "bb70640e",
   "metadata": {},
   "outputs": [
    {
     "data": {
      "text/plain": [
       "True"
      ]
     },
     "execution_count": 661,
     "metadata": {},
     "output_type": "execute_result"
    }
   ],
   "source": [
    "True or False"
   ]
  },
  {
   "cell_type": "code",
   "execution_count": 662,
   "id": "8ee73fd9",
   "metadata": {},
   "outputs": [
    {
     "data": {
      "text/plain": [
       "True"
      ]
     },
     "execution_count": 662,
     "metadata": {},
     "output_type": "execute_result"
    }
   ],
   "source": [
    "True or True"
   ]
  },
  {
   "cell_type": "code",
   "execution_count": 663,
   "id": "2c4b71af",
   "metadata": {},
   "outputs": [],
   "source": [
    "a = 'hey'\n",
    "b = '123'"
   ]
  },
  {
   "cell_type": "code",
   "execution_count": 664,
   "id": "0b27d8a6",
   "metadata": {},
   "outputs": [
    {
     "data": {
      "text/plain": [
       "True"
      ]
     },
     "execution_count": 664,
     "metadata": {},
     "output_type": "execute_result"
    }
   ],
   "source": [
    "a.isalpha() or b.isnum()"
   ]
  },
  {
   "cell_type": "markdown",
   "id": "431bafe3",
   "metadata": {},
   "source": [
    "# Lists\n",
    "- data structure that is mutable, changeable, ordered sequence of elements.\n",
    "- each element inside list is called an  __item__.\n",
    "- value between []"
   ]
  },
  {
   "cell_type": "code",
   "execution_count": 665,
   "id": "c2faa360",
   "metadata": {},
   "outputs": [],
   "source": [
    "lst = []"
   ]
  },
  {
   "cell_type": "code",
   "execution_count": 666,
   "id": "6a5b43e9",
   "metadata": {},
   "outputs": [
    {
     "data": {
      "text/plain": [
       "list"
      ]
     },
     "execution_count": 666,
     "metadata": {},
     "output_type": "execute_result"
    }
   ],
   "source": [
    "type(lst)"
   ]
  },
  {
   "cell_type": "code",
   "execution_count": 667,
   "id": "4d4d8f9b",
   "metadata": {},
   "outputs": [],
   "source": [
    "lst = ['hey', 'hi', 34, 43]"
   ]
  },
  {
   "cell_type": "markdown",
   "id": "032e77f1",
   "metadata": {},
   "source": [
    "## Append"
   ]
  },
  {
   "cell_type": "code",
   "execution_count": 668,
   "id": "f3d3074b",
   "metadata": {},
   "outputs": [],
   "source": [
    "lst.append('hello')"
   ]
  },
  {
   "cell_type": "code",
   "execution_count": 669,
   "id": "63889715",
   "metadata": {},
   "outputs": [
    {
     "data": {
      "text/plain": [
       "['hey', 'hi', 34, 43, 'hello']"
      ]
     },
     "execution_count": 669,
     "metadata": {},
     "output_type": "execute_result"
    }
   ],
   "source": [
    "lst"
   ]
  },
  {
   "cell_type": "markdown",
   "id": "f0c2539e",
   "metadata": {},
   "source": [
    "## Insert"
   ]
  },
  {
   "cell_type": "code",
   "execution_count": 670,
   "id": "4edde05c",
   "metadata": {},
   "outputs": [],
   "source": [
    "lst.insert(2,'namaste')"
   ]
  },
  {
   "cell_type": "code",
   "execution_count": 671,
   "id": "2193b92a",
   "metadata": {},
   "outputs": [
    {
     "data": {
      "text/plain": [
       "['hey', 'hi', 'namaste', 34, 43, 'hello']"
      ]
     },
     "execution_count": 671,
     "metadata": {},
     "output_type": "execute_result"
    }
   ],
   "source": [
    "lst"
   ]
  },
  {
   "cell_type": "markdown",
   "id": "8bd46699",
   "metadata": {},
   "source": [
    "## Indexing"
   ]
  },
  {
   "cell_type": "code",
   "execution_count": 672,
   "id": "308dfc2b",
   "metadata": {},
   "outputs": [
    {
     "data": {
      "text/plain": [
       "43"
      ]
     },
     "execution_count": 672,
     "metadata": {},
     "output_type": "execute_result"
    }
   ],
   "source": [
    "lst[4]"
   ]
  },
  {
   "cell_type": "code",
   "execution_count": 673,
   "id": "2abb3d54",
   "metadata": {},
   "outputs": [
    {
     "data": {
      "text/plain": [
       "['hi', 'namaste', 34, 43, 'hello']"
      ]
     },
     "execution_count": 673,
     "metadata": {},
     "output_type": "execute_result"
    }
   ],
   "source": [
    "lst[1:]"
   ]
  },
  {
   "cell_type": "code",
   "execution_count": 674,
   "id": "6c15be31",
   "metadata": {},
   "outputs": [
    {
     "data": {
      "text/plain": [
       "['hi', 'namaste']"
      ]
     },
     "execution_count": 674,
     "metadata": {},
     "output_type": "execute_result"
    }
   ],
   "source": [
    "lst[1:3]"
   ]
  },
  {
   "cell_type": "code",
   "execution_count": 675,
   "id": "a0a0d217",
   "metadata": {},
   "outputs": [
    {
     "data": {
      "text/plain": [
       "['hey', 'hi']"
      ]
     },
     "execution_count": 675,
     "metadata": {},
     "output_type": "execute_result"
    }
   ],
   "source": [
    "lst[:2]"
   ]
  },
  {
   "cell_type": "markdown",
   "id": "d85f5ac5",
   "metadata": {},
   "source": [
    "## Other operations on lists"
   ]
  },
  {
   "cell_type": "code",
   "execution_count": 676,
   "id": "d4cb4464",
   "metadata": {},
   "outputs": [],
   "source": [
    "l = [1,2,3]"
   ]
  },
  {
   "cell_type": "code",
   "execution_count": 677,
   "id": "b3f6960e",
   "metadata": {},
   "outputs": [
    {
     "data": {
      "text/plain": [
       "6"
      ]
     },
     "execution_count": 677,
     "metadata": {},
     "output_type": "execute_result"
    }
   ],
   "source": [
    "sum(l)"
   ]
  },
  {
   "cell_type": "code",
   "execution_count": 678,
   "id": "8344c946",
   "metadata": {},
   "outputs": [
    {
     "data": {
      "text/plain": [
       "3"
      ]
     },
     "execution_count": 678,
     "metadata": {},
     "output_type": "execute_result"
    }
   ],
   "source": [
    "l.pop() # will pop last indexed element"
   ]
  },
  {
   "cell_type": "code",
   "execution_count": 679,
   "id": "9d39ba26",
   "metadata": {},
   "outputs": [
    {
     "data": {
      "text/plain": [
       "1"
      ]
     },
     "execution_count": 679,
     "metadata": {},
     "output_type": "execute_result"
    }
   ],
   "source": [
    "l.pop(0)"
   ]
  },
  {
   "cell_type": "code",
   "execution_count": 680,
   "id": "dfd2e0d2",
   "metadata": {},
   "outputs": [
    {
     "data": {
      "text/plain": [
       "[2]"
      ]
     },
     "execution_count": 680,
     "metadata": {},
     "output_type": "execute_result"
    }
   ],
   "source": [
    "l"
   ]
  },
  {
   "cell_type": "markdown",
   "id": "a6b197d3",
   "metadata": {},
   "source": [
    "# count"
   ]
  },
  {
   "cell_type": "code",
   "execution_count": 681,
   "id": "320bc940",
   "metadata": {},
   "outputs": [],
   "source": [
    "a = [1,1,3,4,1]"
   ]
  },
  {
   "cell_type": "code",
   "execution_count": 682,
   "id": "f3ad551b",
   "metadata": {},
   "outputs": [
    {
     "data": {
      "text/plain": [
       "3"
      ]
     },
     "execution_count": 682,
     "metadata": {},
     "output_type": "execute_result"
    }
   ],
   "source": [
    "a.count(1)"
   ]
  },
  {
   "cell_type": "code",
   "execution_count": 683,
   "id": "e84591e9",
   "metadata": {},
   "outputs": [
    {
     "data": {
      "text/plain": [
       "5"
      ]
     },
     "execution_count": 683,
     "metadata": {},
     "output_type": "execute_result"
    }
   ],
   "source": [
    "len(a)"
   ]
  },
  {
   "cell_type": "code",
   "execution_count": 684,
   "id": "f699f4cc",
   "metadata": {},
   "outputs": [
    {
     "data": {
      "text/plain": [
       "0"
      ]
     },
     "execution_count": 684,
     "metadata": {},
     "output_type": "execute_result"
    }
   ],
   "source": [
    "a.index(1) #will return the first occurence from that index range"
   ]
  },
  {
   "cell_type": "code",
   "execution_count": 685,
   "id": "d567da7b",
   "metadata": {},
   "outputs": [
    {
     "data": {
      "text/plain": [
       "0"
      ]
     },
     "execution_count": 685,
     "metadata": {},
     "output_type": "execute_result"
    }
   ],
   "source": [
    "a.index(1,0,2) #1=value, 0=starting index, 2=ending index"
   ]
  },
  {
   "cell_type": "code",
   "execution_count": 686,
   "id": "2d62070a",
   "metadata": {},
   "outputs": [
    {
     "data": {
      "text/plain": [
       "1"
      ]
     },
     "execution_count": 686,
     "metadata": {},
     "output_type": "execute_result"
    }
   ],
   "source": [
    "a.index(1,1,2)"
   ]
  },
  {
   "cell_type": "code",
   "execution_count": 687,
   "id": "b9852bf4",
   "metadata": {},
   "outputs": [
    {
     "data": {
      "text/plain": [
       "1"
      ]
     },
     "execution_count": 687,
     "metadata": {},
     "output_type": "execute_result"
    }
   ],
   "source": [
    "a.index(1,1,4)"
   ]
  },
  {
   "cell_type": "code",
   "execution_count": 688,
   "id": "6ce908e9",
   "metadata": {},
   "outputs": [
    {
     "data": {
      "text/plain": [
       "4"
      ]
     },
     "execution_count": 688,
     "metadata": {},
     "output_type": "execute_result"
    }
   ],
   "source": [
    "a.index(1,2,5)"
   ]
  },
  {
   "cell_type": "code",
   "execution_count": 689,
   "id": "ca88d6cc",
   "metadata": {},
   "outputs": [
    {
     "data": {
      "text/plain": [
       "1"
      ]
     },
     "execution_count": 689,
     "metadata": {},
     "output_type": "execute_result"
    }
   ],
   "source": [
    "min(a)"
   ]
  },
  {
   "cell_type": "code",
   "execution_count": 690,
   "id": "7daddb86",
   "metadata": {},
   "outputs": [
    {
     "data": {
      "text/plain": [
       "4"
      ]
     },
     "execution_count": 690,
     "metadata": {},
     "output_type": "execute_result"
    }
   ],
   "source": [
    "max(a)"
   ]
  },
  {
   "cell_type": "markdown",
   "id": "337de42e",
   "metadata": {},
   "source": [
    "# Sets\n",
    "- unordered collection of data type\n",
    "- iterable, mutable, no duplicate elements\n",
    "- does not support indexing\n",
    "- based on data structure known as a hash table\n",
    "- inside {}"
   ]
  },
  {
   "cell_type": "code",
   "execution_count": 691,
   "id": "d2cd68c3",
   "metadata": {},
   "outputs": [
    {
     "data": {
      "text/plain": [
       "set"
      ]
     },
     "execution_count": 691,
     "metadata": {},
     "output_type": "execute_result"
    }
   ],
   "source": [
    "s = set() # defining empty set\n",
    "type(s)"
   ]
  },
  {
   "cell_type": "code",
   "execution_count": 692,
   "id": "343bd397",
   "metadata": {},
   "outputs": [],
   "source": [
    "s = {1,4,2,3,4,3} #no duplicate  so..."
   ]
  },
  {
   "cell_type": "code",
   "execution_count": 693,
   "id": "dfd23bc6",
   "metadata": {},
   "outputs": [
    {
     "data": {
      "text/plain": [
       "{1, 2, 3, 4}"
      ]
     },
     "execution_count": 693,
     "metadata": {},
     "output_type": "execute_result"
    }
   ],
   "source": [
    "s"
   ]
  },
  {
   "cell_type": "code",
   "execution_count": 694,
   "id": "2c5d4293",
   "metadata": {},
   "outputs": [],
   "source": [
    "s = {\"naruto\",\"bleach\",\"onepiece\"}"
   ]
  },
  {
   "cell_type": "code",
   "execution_count": 695,
   "id": "b0b07590",
   "metadata": {},
   "outputs": [
    {
     "data": {
      "text/plain": [
       "{'bleach', 'naruto', 'onepiece'}"
      ]
     },
     "execution_count": 695,
     "metadata": {},
     "output_type": "execute_result"
    }
   ],
   "source": [
    "s"
   ]
  },
  {
   "cell_type": "code",
   "execution_count": 696,
   "id": "ef93f249",
   "metadata": {},
   "outputs": [],
   "source": [
    "s.add(\"hxh\")"
   ]
  },
  {
   "cell_type": "code",
   "execution_count": 697,
   "id": "1bc4c510",
   "metadata": {},
   "outputs": [
    {
     "data": {
      "text/plain": [
       "{'bleach', 'hxh', 'naruto', 'onepiece'}"
      ]
     },
     "execution_count": 697,
     "metadata": {},
     "output_type": "execute_result"
    }
   ],
   "source": [
    "s"
   ]
  },
  {
   "cell_type": "code",
   "execution_count": 698,
   "id": "cdb47ab9",
   "metadata": {},
   "outputs": [],
   "source": [
    "s1 = {\"naruto\",\"bleach\",\"onepiece\"}\n",
    "s2 = {\"naruto\",\"bleach\",\"onepiece\",\"jojo\"}"
   ]
  },
  {
   "cell_type": "code",
   "execution_count": 699,
   "id": "b202c89f",
   "metadata": {},
   "outputs": [
    {
     "data": {
      "text/plain": [
       "{'jojo'}"
      ]
     },
     "execution_count": 699,
     "metadata": {},
     "output_type": "execute_result"
    }
   ],
   "source": [
    "s2.difference(s1)"
   ]
  },
  {
   "cell_type": "code",
   "execution_count": 700,
   "id": "144747d0",
   "metadata": {},
   "outputs": [
    {
     "data": {
      "text/plain": [
       "{'bleach', 'naruto', 'onepiece'}"
      ]
     },
     "execution_count": 700,
     "metadata": {},
     "output_type": "execute_result"
    }
   ],
   "source": [
    "s2.intersection(s1)"
   ]
  },
  {
   "cell_type": "code",
   "execution_count": 701,
   "id": "95a904e1",
   "metadata": {},
   "outputs": [
    {
     "data": {
      "text/plain": [
       "{'bleach', 'jojo', 'naruto', 'onepiece'}"
      ]
     },
     "execution_count": 701,
     "metadata": {},
     "output_type": "execute_result"
    }
   ],
   "source": [
    "s2"
   ]
  },
  {
   "cell_type": "markdown",
   "id": "1c8858a7",
   "metadata": {},
   "source": [
    "# Dictionaries\n",
    "- collection which is unordered, changeable and indexed\n",
    "- inside {} but they have key and values"
   ]
  },
  {
   "cell_type": "code",
   "execution_count": 702,
   "id": "ac6d1984",
   "metadata": {},
   "outputs": [
    {
     "data": {
      "text/plain": [
       "set"
      ]
     },
     "execution_count": 702,
     "metadata": {},
     "output_type": "execute_result"
    }
   ],
   "source": [
    "a = {1,2,3}\n",
    "type(a)"
   ]
  },
  {
   "cell_type": "code",
   "execution_count": 703,
   "id": "cc42d358",
   "metadata": {},
   "outputs": [
    {
     "data": {
      "text/plain": [
       "dict"
      ]
     },
     "execution_count": 703,
     "metadata": {},
     "output_type": "execute_result"
    }
   ],
   "source": [
    "a = {\"1\":\"a\",\"2\":\"b\",\"3\":\"c\"}\n",
    "type(a)"
   ]
  },
  {
   "cell_type": "code",
   "execution_count": 704,
   "id": "9f649b21",
   "metadata": {},
   "outputs": [
    {
     "data": {
      "text/plain": [
       "set"
      ]
     },
     "execution_count": 704,
     "metadata": {},
     "output_type": "execute_result"
    }
   ],
   "source": [
    "a = set()\n",
    "type(a)"
   ]
  },
  {
   "cell_type": "code",
   "execution_count": 705,
   "id": "be092725",
   "metadata": {},
   "outputs": [
    {
     "data": {
      "text/plain": [
       "dict"
      ]
     },
     "execution_count": 705,
     "metadata": {},
     "output_type": "execute_result"
    }
   ],
   "source": [
    "a = {}\n",
    "type(a)"
   ]
  },
  {
   "cell_type": "code",
   "execution_count": 706,
   "id": "b87ee907",
   "metadata": {},
   "outputs": [],
   "source": [
    "#create\n",
    "dict = {\"val1\":\"a\",\"val2\":\"b\",\"val3\":\"c\"}"
   ]
  },
  {
   "cell_type": "code",
   "execution_count": 707,
   "id": "fd40e574",
   "metadata": {},
   "outputs": [
    {
     "data": {
      "text/plain": [
       "'a'"
      ]
     },
     "execution_count": 707,
     "metadata": {},
     "output_type": "execute_result"
    }
   ],
   "source": [
    "#access item based on keys not index\n",
    "#dict[0] ... wrong\n",
    "dict['val1']"
   ]
  },
  {
   "cell_type": "code",
   "execution_count": 708,
   "id": "30849041",
   "metadata": {},
   "outputs": [
    {
     "name": "stdout",
     "output_type": "stream",
     "text": [
      "val1\n",
      "val2\n",
      "val3\n"
     ]
    }
   ],
   "source": [
    "#adding loop\n",
    "for x in dict:\n",
    "    print(x)"
   ]
  },
  {
   "cell_type": "code",
   "execution_count": 709,
   "id": "3e8ed92e",
   "metadata": {},
   "outputs": [
    {
     "name": "stdout",
     "output_type": "stream",
     "text": [
      "a\n",
      "b\n",
      "c\n"
     ]
    }
   ],
   "source": [
    "for x in dict.values():\n",
    "    print(x)"
   ]
  },
  {
   "cell_type": "code",
   "execution_count": 710,
   "id": "132313c6",
   "metadata": {},
   "outputs": [
    {
     "name": "stdout",
     "output_type": "stream",
     "text": [
      "('val1', 'a')\n",
      "('val2', 'b')\n",
      "('val3', 'c')\n"
     ]
    }
   ],
   "source": [
    "for x in dict.items():\n",
    "    print(x)"
   ]
  },
  {
   "cell_type": "code",
   "execution_count": 711,
   "id": "9e6d0d48",
   "metadata": {},
   "outputs": [
    {
     "data": {
      "text/plain": [
       "{'val1': 'a', 'val2': 'b', 'val3': 'c', 'val4': 'd'}"
      ]
     },
     "execution_count": 711,
     "metadata": {},
     "output_type": "execute_result"
    }
   ],
   "source": [
    "#adding items\n",
    "dict['val4']='d'\n",
    "dict"
   ]
  },
  {
   "cell_type": "code",
   "execution_count": 712,
   "id": "3a164db3",
   "metadata": {},
   "outputs": [
    {
     "data": {
      "text/plain": [
       "{'val1': 'A', 'val2': 'b', 'val3': 'c', 'val4': 'd'}"
      ]
     },
     "execution_count": 712,
     "metadata": {},
     "output_type": "execute_result"
    }
   ],
   "source": [
    "dict['val1'] = 'A'\n",
    "dict"
   ]
  },
  {
   "cell_type": "markdown",
   "id": "736f758a",
   "metadata": {},
   "source": [
    "## Nested Dictionary"
   ]
  },
  {
   "cell_type": "code",
   "execution_count": 713,
   "id": "4d23511c",
   "metadata": {},
   "outputs": [],
   "source": [
    "a1 = {'naruto':2001}\n",
    "a2 = {'jojo':2010}\n",
    "a3 = {'hxh': 2020}\n",
    "\n",
    "a_type = {'val1':a1, 'val2':a2, 'val3':a3}\n"
   ]
  },
  {
   "cell_type": "code",
   "execution_count": 714,
   "id": "1b461ae8",
   "metadata": {},
   "outputs": [
    {
     "name": "stdout",
     "output_type": "stream",
     "text": [
      "{'val1': {'naruto': 2001}, 'val2': {'jojo': 2010}, 'val3': {'hxh': 2020}}\n"
     ]
    }
   ],
   "source": [
    "#a_type ...output opposite as {2001,'naruto'}\n",
    "\n",
    "print(a_type)"
   ]
  },
  {
   "cell_type": "code",
   "execution_count": 715,
   "id": "f26e93fa",
   "metadata": {},
   "outputs": [
    {
     "name": "stdout",
     "output_type": "stream",
     "text": [
      "{'naruto': 2001}\n"
     ]
    }
   ],
   "source": [
    "# accessing items\n",
    "print(a_type['val1'])"
   ]
  },
  {
   "cell_type": "code",
   "execution_count": 716,
   "id": "447d7bc7",
   "metadata": {},
   "outputs": [
    {
     "name": "stdout",
     "output_type": "stream",
     "text": [
      "2001\n"
     ]
    }
   ],
   "source": [
    "print(a_type['val1']['naruto'])"
   ]
  },
  {
   "cell_type": "markdown",
   "id": "9a8ee776",
   "metadata": {},
   "source": [
    "# Tuples\n",
    "- not mutable i.e once defined can not be changed\n",
    "- inside ()"
   ]
  },
  {
   "cell_type": "code",
   "execution_count": 717,
   "id": "314b8756",
   "metadata": {},
   "outputs": [],
   "source": [
    "t = (\"naruto\",\"sasuke\",\"sakura\")"
   ]
  },
  {
   "cell_type": "code",
   "execution_count": 718,
   "id": "11cab2fb",
   "metadata": {},
   "outputs": [],
   "source": [
    "# t[0] = 'shikamaru' ... single value cannot be changed\n",
    "# but tuple as a whole can be changed\n",
    "t = (\"shikamaru\",\"ino\",\"choji\")"
   ]
  },
  {
   "cell_type": "code",
   "execution_count": 719,
   "id": "8fe09cfe",
   "metadata": {},
   "outputs": [
    {
     "name": "stdout",
     "output_type": "stream",
     "text": [
      "('shikamaru', 'ino', 'choji')\n"
     ]
    }
   ],
   "source": [
    "print(t)"
   ]
  },
  {
   "cell_type": "code",
   "execution_count": 720,
   "id": "797459ca",
   "metadata": {},
   "outputs": [
    {
     "data": {
      "text/plain": [
       "0"
      ]
     },
     "execution_count": 720,
     "metadata": {},
     "output_type": "execute_result"
    }
   ],
   "source": [
    "t.count('naruto')"
   ]
  },
  {
   "cell_type": "code",
   "execution_count": 721,
   "id": "ee466249",
   "metadata": {},
   "outputs": [
    {
     "data": {
      "text/plain": [
       "1"
      ]
     },
     "execution_count": 721,
     "metadata": {},
     "output_type": "execute_result"
    }
   ],
   "source": [
    "t.count(\"ino\")"
   ]
  }
 ],
 "metadata": {
  "kernelspec": {
   "display_name": "Python 3",
   "language": "python",
   "name": "python3"
  },
  "language_info": {
   "codemirror_mode": {
    "name": "ipython",
    "version": 3
   },
   "file_extension": ".py",
   "mimetype": "text/x-python",
   "name": "python",
   "nbconvert_exporter": "python",
   "pygments_lexer": "ipython3",
   "version": "3.9.5"
  }
 },
 "nbformat": 4,
 "nbformat_minor": 5
}
