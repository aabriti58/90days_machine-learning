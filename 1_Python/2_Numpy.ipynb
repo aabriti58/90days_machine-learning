{
 "cells": [
  {
   "cell_type": "markdown",
   "id": "676b1749",
   "metadata": {},
   "source": [
    "# Numpy\n",
    "- general purpose array-processing package\n",
    "- provides high-performance multidimensional array object and tools for working with these arrays\n",
    "\n",
    "# Arrays\n",
    "- data structure that stores value of same data type."
   ]
  },
  {
   "cell_type": "code",
   "execution_count": 125,
   "id": "2edf70be",
   "metadata": {},
   "outputs": [],
   "source": [
    "import numpy as np"
   ]
  },
  {
   "cell_type": "code",
   "execution_count": 126,
   "id": "b71074e1",
   "metadata": {},
   "outputs": [],
   "source": [
    "lst = [1,2,3,4,5]\n",
    "\n",
    "arr = np.array(lst) #creating 1D array of lst\n"
   ]
  },
  {
   "cell_type": "code",
   "execution_count": 127,
   "id": "b4a04263",
   "metadata": {},
   "outputs": [
    {
     "data": {
      "text/plain": [
       "numpy.ndarray"
      ]
     },
     "execution_count": 127,
     "metadata": {},
     "output_type": "execute_result"
    }
   ],
   "source": [
    "type(arr)"
   ]
  },
  {
   "cell_type": "code",
   "execution_count": 128,
   "id": "722bd7aa",
   "metadata": {},
   "outputs": [],
   "source": [
    "# Multidimensional array\n",
    "lst1 = [1,2,3,4,5]\n",
    "lst2 = [1,3,5,7,9]\n",
    "lst3 = [2,4,6,8,10]\n",
    "\n",
    "arr1 = np.array([lst1,lst2,lst3])"
   ]
  },
  {
   "cell_type": "code",
   "execution_count": 129,
   "id": "ed4d0e27",
   "metadata": {},
   "outputs": [
    {
     "data": {
      "text/plain": [
       "array([[ 1,  2,  3,  4,  5],\n",
       "       [ 1,  3,  5,  7,  9],\n",
       "       [ 2,  4,  6,  8, 10]])"
      ]
     },
     "execution_count": 129,
     "metadata": {},
     "output_type": "execute_result"
    }
   ],
   "source": [
    "arr1"
   ]
  },
  {
   "cell_type": "code",
   "execution_count": 130,
   "id": "17fe7572",
   "metadata": {},
   "outputs": [
    {
     "data": {
      "text/plain": [
       "(3, 5)"
      ]
     },
     "execution_count": 130,
     "metadata": {},
     "output_type": "execute_result"
    }
   ],
   "source": [
    "# checking shape\n",
    "arr1.shape"
   ]
  },
  {
   "cell_type": "code",
   "execution_count": 131,
   "id": "beef54a1",
   "metadata": {},
   "outputs": [
    {
     "data": {
      "text/plain": [
       "array([[ 1,  2,  3],\n",
       "       [ 4,  5,  1],\n",
       "       [ 3,  5,  7],\n",
       "       [ 9,  2,  4],\n",
       "       [ 6,  8, 10]])"
      ]
     },
     "execution_count": 131,
     "metadata": {},
     "output_type": "execute_result"
    }
   ],
   "source": [
    "arr1.reshape(5,3)"
   ]
  },
  {
   "cell_type": "markdown",
   "id": "c876b831",
   "metadata": {},
   "source": [
    "While reshaping the array,<br> no of element before = no of element after reshaping<br> \n",
    "In below code, before = 2x6 = 12<br> after = 4x3 = 12"
   ]
  },
  {
   "cell_type": "code",
   "execution_count": 132,
   "id": "c2ab2af1",
   "metadata": {},
   "outputs": [
    {
     "data": {
      "text/plain": [
       "array([[1, 2, 3, 4, 5, 6],\n",
       "       [2, 3, 5, 7, 3, 9]])"
      ]
     },
     "execution_count": 132,
     "metadata": {},
     "output_type": "execute_result"
    }
   ],
   "source": [
    "l = [1,2,3,4,5,6]\n",
    "a = [2,3,5,7,3,9]\n",
    "arr2 = np.array([l,a])\n",
    "arr2"
   ]
  },
  {
   "cell_type": "code",
   "execution_count": 133,
   "id": "a98bd46e",
   "metadata": {},
   "outputs": [
    {
     "data": {
      "text/plain": [
       "array([[1, 2, 3],\n",
       "       [4, 5, 6],\n",
       "       [2, 3, 5],\n",
       "       [7, 3, 9]])"
      ]
     },
     "execution_count": 133,
     "metadata": {},
     "output_type": "execute_result"
    }
   ],
   "source": [
    "arr2.reshape(4,3)"
   ]
  },
  {
   "cell_type": "markdown",
   "id": "7e30d0a7",
   "metadata": {},
   "source": [
    "### Indexing"
   ]
  },
  {
   "cell_type": "code",
   "execution_count": 134,
   "id": "8bc09d0b",
   "metadata": {},
   "outputs": [
    {
     "data": {
      "text/plain": [
       "array([1, 2, 3, 4, 5])"
      ]
     },
     "execution_count": 134,
     "metadata": {},
     "output_type": "execute_result"
    }
   ],
   "source": [
    "# accessing array element\n",
    "arr "
   ]
  },
  {
   "cell_type": "code",
   "execution_count": 135,
   "id": "1b23a326",
   "metadata": {},
   "outputs": [
    {
     "data": {
      "text/plain": [
       "4"
      ]
     },
     "execution_count": 135,
     "metadata": {},
     "output_type": "execute_result"
    }
   ],
   "source": [
    "arr[3]"
   ]
  },
  {
   "cell_type": "code",
   "execution_count": 136,
   "id": "b9bd19b8",
   "metadata": {},
   "outputs": [
    {
     "data": {
      "text/plain": [
       "array([[ 1,  2,  3,  4,  5],\n",
       "       [ 1,  3,  5,  7,  9],\n",
       "       [ 2,  4,  6,  8, 10]])"
      ]
     },
     "execution_count": 136,
     "metadata": {},
     "output_type": "execute_result"
    }
   ],
   "source": [
    "arr1"
   ]
  },
  {
   "cell_type": "code",
   "execution_count": 137,
   "id": "dbcc12f6",
   "metadata": {},
   "outputs": [
    {
     "data": {
      "text/plain": [
       "array([[1, 3],\n",
       "       [2, 4]])"
      ]
     },
     "execution_count": 137,
     "metadata": {},
     "output_type": "execute_result"
    }
   ],
   "source": [
    "arr1[1:,:2]"
   ]
  },
  {
   "cell_type": "code",
   "execution_count": 138,
   "id": "0ca45010",
   "metadata": {},
   "outputs": [
    {
     "data": {
      "text/plain": [
       "array([[1, 2],\n",
       "       [1, 3],\n",
       "       [2, 4]])"
      ]
     },
     "execution_count": 138,
     "metadata": {},
     "output_type": "execute_result"
    }
   ],
   "source": [
    "arr1[:,:2]"
   ]
  },
  {
   "cell_type": "code",
   "execution_count": 139,
   "id": "c7fff34c",
   "metadata": {},
   "outputs": [
    {
     "data": {
      "text/plain": [
       "array([[5, 7],\n",
       "       [6, 8]])"
      ]
     },
     "execution_count": 139,
     "metadata": {},
     "output_type": "execute_result"
    }
   ],
   "source": [
    "arr1[1:,2:4]"
   ]
  },
  {
   "cell_type": "code",
   "execution_count": 140,
   "id": "4a0412c4",
   "metadata": {},
   "outputs": [
    {
     "data": {
      "text/plain": [
       "array([[  1,   2,   3,   4,   5],\n",
       "       [  1,   3,   5,   7,   9],\n",
       "       [100, 100, 100, 100, 100]])"
      ]
     },
     "execution_count": 140,
     "metadata": {},
     "output_type": "execute_result"
    }
   ],
   "source": [
    "# copy() function and broadcasting\n",
    "arr1[2:] = 100\n",
    "arr1"
   ]
  },
  {
   "cell_type": "code",
   "execution_count": 141,
   "id": "b48c72f0",
   "metadata": {},
   "outputs": [
    {
     "data": {
      "text/plain": [
       "array([[  1,   2,   3,   4,   5],\n",
       "       [  1,   3,   5,   7,   9],\n",
       "       [100, 100, 100, 100, 100]])"
      ]
     },
     "execution_count": 141,
     "metadata": {},
     "output_type": "execute_result"
    }
   ],
   "source": [
    "arr1[2:]=100\n",
    "arr1"
   ]
  },
  {
   "cell_type": "code",
   "execution_count": 142,
   "id": "57b90108",
   "metadata": {},
   "outputs": [],
   "source": [
    "arr2 = arr1"
   ]
  },
  {
   "cell_type": "code",
   "execution_count": 143,
   "id": "9a8ea1c3",
   "metadata": {},
   "outputs": [
    {
     "data": {
      "text/plain": [
       "array([[  1,   2,   3,   4,   5],\n",
       "       [  1,   3,   5,   7,   9],\n",
       "       [100, 100, 100, 100, 100]])"
      ]
     },
     "execution_count": 143,
     "metadata": {},
     "output_type": "execute_result"
    }
   ],
   "source": [
    "arr2[3:]=500\n",
    "arr2"
   ]
  },
  {
   "cell_type": "code",
   "execution_count": 144,
   "id": "7da7df7d",
   "metadata": {},
   "outputs": [],
   "source": [
    "arr2 = arr1.copy()"
   ]
  },
  {
   "cell_type": "code",
   "execution_count": 145,
   "id": "fca44f94",
   "metadata": {},
   "outputs": [
    {
     "name": "stdout",
     "output_type": "stream",
     "text": [
      "[[  1   2   3   4   5]\n",
      " [  1   3   5   7   9]\n",
      " [100 100 100 100 100]]\n",
      "[[  1   2   3   4   5]\n",
      " [  1   3   5   7   9]\n",
      " [300 300 300 300 300]]\n"
     ]
    }
   ],
   "source": [
    "print(arr1)\n",
    "arr2[2:]=300\n",
    "print(arr2)"
   ]
  },
  {
   "cell_type": "code",
   "execution_count": 146,
   "id": "33a0f3e2",
   "metadata": {},
   "outputs": [
    {
     "data": {
      "text/plain": [
       "array([0, 1, 2, 3, 4, 5, 6, 7, 8, 9])"
      ]
     },
     "execution_count": 146,
     "metadata": {},
     "output_type": "execute_result"
    }
   ],
   "source": [
    "# arranging array\n",
    "arr3 = np.arange(0,10)\n",
    "arr3"
   ]
  },
  {
   "cell_type": "code",
   "execution_count": 147,
   "id": "b44ef9bf",
   "metadata": {},
   "outputs": [
    {
     "data": {
      "text/plain": [
       "array([0, 3, 6, 9])"
      ]
     },
     "execution_count": 147,
     "metadata": {},
     "output_type": "execute_result"
    }
   ],
   "source": [
    "arr3 = np.arange(0,10,step=3)\n",
    "arr3"
   ]
  },
  {
   "cell_type": "code",
   "execution_count": 148,
   "id": "c99a51d5",
   "metadata": {},
   "outputs": [
    {
     "data": {
      "text/plain": [
       "array([1.        , 1.33333333, 1.66666667, 2.        ])"
      ]
     },
     "execution_count": 148,
     "metadata": {},
     "output_type": "execute_result"
    }
   ],
   "source": [
    "np.linspace(1,2,4)"
   ]
  },
  {
   "cell_type": "code",
   "execution_count": 149,
   "id": "bfb8dbc2",
   "metadata": {},
   "outputs": [
    {
     "data": {
      "text/plain": [
       "array([ 2,  4,  6,  8, 10])"
      ]
     },
     "execution_count": 149,
     "metadata": {},
     "output_type": "execute_result"
    }
   ],
   "source": [
    "# condition for Explatory data analysis\n",
    "val = 2\n",
    "arr*2"
   ]
  },
  {
   "cell_type": "code",
   "execution_count": 156,
   "id": "3a2e7f79",
   "metadata": {},
   "outputs": [
    {
     "data": {
      "text/plain": [
       "array([[ 0,  1,  2,  3,  4,  5],\n",
       "       [ 6,  7,  8,  9, 10, 11]])"
      ]
     },
     "execution_count": 156,
     "metadata": {},
     "output_type": "execute_result"
    }
   ],
   "source": [
    "a=np.arange(0,12).reshape(2,6)\n",
    "a"
   ]
  },
  {
   "cell_type": "code",
   "execution_count": 157,
   "id": "fd6a51e3",
   "metadata": {},
   "outputs": [
    {
     "data": {
      "text/plain": [
       "array([[ 2,  3,  4,  5,  6,  7],\n",
       "       [ 8,  9, 10, 11, 12, 13]])"
      ]
     },
     "execution_count": 157,
     "metadata": {},
     "output_type": "execute_result"
    }
   ],
   "source": [
    "b=np.arange(2,14).reshape(2,6)\n",
    "b"
   ]
  },
  {
   "cell_type": "code",
   "execution_count": 158,
   "id": "eb40e9cf",
   "metadata": {},
   "outputs": [
    {
     "data": {
      "text/plain": [
       "array([[  0,   3,   8,  15,  24,  35],\n",
       "       [ 48,  63,  80,  99, 120, 143]])"
      ]
     },
     "execution_count": 158,
     "metadata": {},
     "output_type": "execute_result"
    }
   ],
   "source": [
    "a*b"
   ]
  },
  {
   "cell_type": "code",
   "execution_count": 165,
   "id": "c5d6efd5",
   "metadata": {},
   "outputs": [
    {
     "data": {
      "text/plain": [
       "array([[1, 1],\n",
       "       [1, 1],\n",
       "       [1, 1],\n",
       "       [1, 1]])"
      ]
     },
     "execution_count": 165,
     "metadata": {},
     "output_type": "execute_result"
    }
   ],
   "source": [
    "np.ones((4,2),dtype=int) # all array element 1"
   ]
  },
  {
   "cell_type": "code",
   "execution_count": 166,
   "id": "dc25a649",
   "metadata": {},
   "outputs": [
    {
     "data": {
      "text/plain": [
       "array([[0.69098275, 0.78819261],\n",
       "       [0.58528946, 0.58437628]])"
      ]
     },
     "execution_count": 166,
     "metadata": {},
     "output_type": "execute_result"
    }
   ],
   "source": [
    "#random distribution\n",
    "np.random.rand(2,2)"
   ]
  },
  {
   "cell_type": "code",
   "execution_count": 169,
   "id": "61d56343",
   "metadata": {},
   "outputs": [
    {
     "data": {
      "text/plain": [
       "array([[ 0.59512546, -1.40013413],\n",
       "       [-0.69910601,  0.8610149 ]])"
      ]
     },
     "execution_count": 169,
     "metadata": {},
     "output_type": "execute_result"
    }
   ],
   "source": [
    "# randn=random value based on standart normal distribution\n",
    "np.random.randn(2,2)"
   ]
  },
  {
   "cell_type": "code",
   "execution_count": 172,
   "id": "1daaf134",
   "metadata": {},
   "outputs": [
    {
     "data": {
      "text/plain": [
       "array([[38, 30],\n",
       "       [ 1, 32]])"
      ]
     },
     "execution_count": 172,
     "metadata": {},
     "output_type": "execute_result"
    }
   ],
   "source": [
    "#randint = select 4 random value between 0 and 50\n",
    "np.random.randint(0,50,4).reshape(2,2)"
   ]
  }
 ],
 "metadata": {
  "kernelspec": {
   "display_name": "Python 3",
   "language": "python",
   "name": "python3"
  },
  "language_info": {
   "codemirror_mode": {
    "name": "ipython",
    "version": 3
   },
   "file_extension": ".py",
   "mimetype": "text/x-python",
   "name": "python",
   "nbconvert_exporter": "python",
   "pygments_lexer": "ipython3",
   "version": "3.9.5"
  }
 },
 "nbformat": 4,
 "nbformat_minor": 5
}
