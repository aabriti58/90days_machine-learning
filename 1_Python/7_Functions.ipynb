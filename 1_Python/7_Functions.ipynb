{
 "cells": [
  {
   "cell_type": "markdown",
   "id": "c4337231",
   "metadata": {},
   "source": [
    "## Functions\n",
    "- set of statements that take inputs, do some specific computation and produces output\n",
    "- code reusability: if we have to use that code again and again then function comes handy"
   ]
  },
  {
   "cell_type": "code",
   "execution_count": 1,
   "id": "1c35e970",
   "metadata": {},
   "outputs": [
    {
     "name": "stdout",
     "output_type": "stream",
     "text": [
      "30 25\n"
     ]
    }
   ],
   "source": [
    "lst = [1,2,3,4,5,6,7,8,9,10]\n",
    "\n",
    "even_sum = 0\n",
    "odd_sum = 0\n",
    "for i in lst:\n",
    "    if i%2==0:\n",
    "        even_sum += i\n",
    "    else:\n",
    "        odd_sum += i\n",
    "print(even_sum,odd_sum)"
   ]
  },
  {
   "cell_type": "code",
   "execution_count": 2,
   "id": "0f747fe2",
   "metadata": {},
   "outputs": [],
   "source": [
    "#above code in function\n",
    "\n",
    "def oddeven(lst):\n",
    "    even_sum = 0\n",
    "    odd_sum = 0\n",
    "    for i in lst:\n",
    "        if i%2==0:\n",
    "            even_sum += i\n",
    "        else:\n",
    "            odd_sum += i\n",
    "    return even_sum,odd_sum\n",
    "    "
   ]
  },
  {
   "cell_type": "code",
   "execution_count": 3,
   "id": "8716c166",
   "metadata": {},
   "outputs": [
    {
     "data": {
      "text/plain": [
       "(30, 25)"
      ]
     },
     "execution_count": 3,
     "metadata": {},
     "output_type": "execute_result"
    }
   ],
   "source": [
    "oddeven(lst)"
   ]
  },
  {
   "cell_type": "code",
   "execution_count": 4,
   "id": "bd741445",
   "metadata": {},
   "outputs": [],
   "source": [
    "def add_list(lst):\n",
    "    sum=0\n",
    "    for i in lst:\n",
    "        print(i)\n",
    "        sum += int(i)\n",
    "    return sum"
   ]
  },
  {
   "cell_type": "code",
   "execution_count": 5,
   "id": "ccb6ee36",
   "metadata": {},
   "outputs": [
    {
     "name": "stdout",
     "output_type": "stream",
     "text": [
      "1\n",
      "2\n",
      "3\n",
      "4\n",
      "5\n"
     ]
    },
    {
     "data": {
      "text/plain": [
       "15"
      ]
     },
     "execution_count": 5,
     "metadata": {},
     "output_type": "execute_result"
    }
   ],
   "source": [
    "add_list([1,2,3,4,5])"
   ]
  },
  {
   "cell_type": "code",
   "execution_count": 10,
   "id": "63dde357",
   "metadata": {},
   "outputs": [
    {
     "name": "stdout",
     "output_type": "stream",
     "text": [
      "hey123\n"
     ]
    }
   ],
   "source": [
    "input_num = list(input(\"hey\"))"
   ]
  },
  {
   "cell_type": "code",
   "execution_count": 11,
   "id": "f5a5c4ce",
   "metadata": {},
   "outputs": [
    {
     "data": {
      "text/plain": [
       "['1', '2', '3']"
      ]
     },
     "execution_count": 11,
     "metadata": {},
     "output_type": "execute_result"
    }
   ],
   "source": [
    "input_num"
   ]
  },
  {
   "cell_type": "code",
   "execution_count": 12,
   "id": "3bfa90d2",
   "metadata": {},
   "outputs": [
    {
     "name": "stdout",
     "output_type": "stream",
     "text": [
      "1\n",
      "2\n",
      "3\n"
     ]
    },
    {
     "data": {
      "text/plain": [
       "6"
      ]
     },
     "execution_count": 12,
     "metadata": {},
     "output_type": "execute_result"
    }
   ],
   "source": [
    "add_list(input_num)"
   ]
  },
  {
   "cell_type": "markdown",
   "id": "8e6f5350",
   "metadata": {},
   "source": [
    "## Positional and keyword arguments\n",
    "positional -> name\n",
    "arguments -> age=20"
   ]
  },
  {
   "cell_type": "code",
   "execution_count": 13,
   "id": "76bc15d7",
   "metadata": {},
   "outputs": [],
   "source": [
    "def hello(name,age=20):\n",
    "    print(\"I'm {} of {} years old\".format(name,age))"
   ]
  },
  {
   "cell_type": "code",
   "execution_count": 15,
   "id": "32743706",
   "metadata": {},
   "outputs": [
    {
     "name": "stdout",
     "output_type": "stream",
     "text": [
      "I'm yuri of 20 years old\n"
     ]
    }
   ],
   "source": [
    "hello('yuri')"
   ]
  },
  {
   "cell_type": "code",
   "execution_count": 16,
   "id": "f23f4457",
   "metadata": {},
   "outputs": [],
   "source": [
    "#args-positional and kwargs-keyword\n",
    "def  hello(*args, **kwargs):\n",
    "    print(args)\n",
    "    print(kwargs)"
   ]
  },
  {
   "cell_type": "code",
   "execution_count": 20,
   "id": "84ceb6c1",
   "metadata": {},
   "outputs": [
    {
     "name": "stdout",
     "output_type": "stream",
     "text": [
      "('yuri', 'sunday')\n",
      "{'age': 3, 'ages': 7}\n"
     ]
    }
   ],
   "source": [
    "hello(\"yuri\",\"sunday\",age=3,ages=7) #keyword args cannot be repeated"
   ]
  },
  {
   "cell_type": "code",
   "execution_count": 25,
   "id": "d5d910b6",
   "metadata": {},
   "outputs": [],
   "source": [
    "lst = [\"yuri\",\"sunday\"]\n",
    "dict_args={\"age\":3,\"ages\":7}"
   ]
  },
  {
   "cell_type": "code",
   "execution_count": 26,
   "id": "bcad3a3d",
   "metadata": {},
   "outputs": [
    {
     "name": "stdout",
     "output_type": "stream",
     "text": [
      "('yuri', 'sunday')\n",
      "{'age': 3, 'ages': 7}\n"
     ]
    }
   ],
   "source": [
    "hello(*lst,**dict_args)"
   ]
  },
  {
   "cell_type": "code",
   "execution_count": null,
   "id": "19f68b54",
   "metadata": {},
   "outputs": [],
   "source": []
  }
 ],
 "metadata": {
  "kernelspec": {
   "display_name": "Python 3",
   "language": "python",
   "name": "python3"
  },
  "language_info": {
   "codemirror_mode": {
    "name": "ipython",
    "version": 3
   },
   "file_extension": ".py",
   "mimetype": "text/x-python",
   "name": "python",
   "nbconvert_exporter": "python",
   "pygments_lexer": "ipython3",
   "version": "3.9.5"
  }
 },
 "nbformat": 4,
 "nbformat_minor": 5
}
