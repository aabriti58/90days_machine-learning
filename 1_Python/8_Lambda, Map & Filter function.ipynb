{
 "cells": [
  {
   "cell_type": "markdown",
   "id": "0ac7f451",
   "metadata": {},
   "source": [
    "## Lambda function\n",
    "- anonymous function\n",
    "- a function with no name\n",
    "- generally faster than normal function"
   ]
  },
  {
   "cell_type": "code",
   "execution_count": 1,
   "id": "d7593eca",
   "metadata": {},
   "outputs": [],
   "source": [
    "# normal function\n",
    "def add(x,y):\n",
    "    return x+y    "
   ]
  },
  {
   "cell_type": "code",
   "execution_count": 3,
   "id": "a3ee0fab",
   "metadata": {},
   "outputs": [
    {
     "data": {
      "text/plain": [
       "7"
      ]
     },
     "execution_count": 3,
     "metadata": {},
     "output_type": "execute_result"
    }
   ],
   "source": [
    "add(3,4)"
   ]
  },
  {
   "cell_type": "markdown",
   "id": "735c8431",
   "metadata": {},
   "source": [
    "__lambda way__ : only if we have single expression in function, lambda can be used  ike return x+y in above eg\n",
    "\n",
    "_syntax_:\n",
    "variable = lambda input_args:operation\n"
   ]
  },
  {
   "cell_type": "code",
   "execution_count": 4,
   "id": "247a1b6e",
   "metadata": {},
   "outputs": [],
   "source": [
    "#eg1\n",
    "add = lambda a,b: a+b"
   ]
  },
  {
   "cell_type": "code",
   "execution_count": 6,
   "id": "867db93a",
   "metadata": {},
   "outputs": [
    {
     "data": {
      "text/plain": [
       "68"
      ]
     },
     "execution_count": 6,
     "metadata": {},
     "output_type": "execute_result"
    }
   ],
   "source": [
    "add(65,3)"
   ]
  },
  {
   "cell_type": "code",
   "execution_count": 15,
   "id": "d02353eb",
   "metadata": {},
   "outputs": [],
   "source": [
    "#eg2\n",
    "odd = lambda x:x%2==1"
   ]
  },
  {
   "cell_type": "code",
   "execution_count": 16,
   "id": "c81eb200",
   "metadata": {},
   "outputs": [
    {
     "data": {
      "text/plain": [
       "True"
      ]
     },
     "execution_count": 16,
     "metadata": {},
     "output_type": "execute_result"
    }
   ],
   "source": [
    "odd(5)"
   ]
  },
  {
   "cell_type": "code",
   "execution_count": 17,
   "id": "00eccc59",
   "metadata": {},
   "outputs": [
    {
     "data": {
      "text/plain": [
       "False"
      ]
     },
     "execution_count": 17,
     "metadata": {},
     "output_type": "execute_result"
    }
   ],
   "source": [
    "odd(6)"
   ]
  },
  {
   "cell_type": "code",
   "execution_count": 18,
   "id": "7b615046",
   "metadata": {},
   "outputs": [
    {
     "data": {
      "text/plain": [
       "72"
      ]
     },
     "execution_count": 18,
     "metadata": {},
     "output_type": "execute_result"
    }
   ],
   "source": [
    "#eg3\n",
    "mul = lambda a,b,c:a*b*c\n",
    "mul(4,6,3)"
   ]
  },
  {
   "cell_type": "markdown",
   "id": "a1ecaf2b",
   "metadata": {},
   "source": [
    "## Map Function\n",
    "- better than looping"
   ]
  },
  {
   "cell_type": "code",
   "execution_count": 19,
   "id": "78c18a2e",
   "metadata": {},
   "outputs": [],
   "source": [
    "def evenodd(num):\n",
    "    if num%2==0:\n",
    "        return \"{} is even\".format(num)\n",
    "    else:\n",
    "        return \"{} is odd\".format(num)"
   ]
  },
  {
   "cell_type": "code",
   "execution_count": 26,
   "id": "2cceb08c",
   "metadata": {},
   "outputs": [],
   "source": [
    "lst = [1,2,4,6,8,3,89,45,23]"
   ]
  },
  {
   "cell_type": "code",
   "execution_count": 27,
   "id": "df245b95",
   "metadata": {},
   "outputs": [
    {
     "data": {
      "text/plain": [
       "['1 is odd',\n",
       " '2 is even',\n",
       " '4 is even',\n",
       " '6 is even',\n",
       " '8 is even',\n",
       " '3 is odd',\n",
       " '89 is odd',\n",
       " '45 is odd',\n",
       " '23 is odd']"
      ]
     },
     "execution_count": 27,
     "metadata": {},
     "output_type": "execute_result"
    }
   ],
   "source": [
    "list(map(evenodd,lst))"
   ]
  },
  {
   "cell_type": "markdown",
   "id": "aa458192",
   "metadata": {},
   "source": [
    "## Filter function"
   ]
  },
  {
   "cell_type": "code",
   "execution_count": 29,
   "id": "59f4638c",
   "metadata": {},
   "outputs": [],
   "source": [
    "def even(num):\n",
    "    if num%2==0:\n",
    "        return True"
   ]
  },
  {
   "cell_type": "code",
   "execution_count": 30,
   "id": "c3ee4707",
   "metadata": {},
   "outputs": [],
   "source": [
    "lst = [1,2,3,4,56,23,56,9,0]"
   ]
  },
  {
   "cell_type": "code",
   "execution_count": 31,
   "id": "a0bd1fe5",
   "metadata": {},
   "outputs": [
    {
     "data": {
      "text/plain": [
       "[2, 4, 56, 56, 0]"
      ]
     },
     "execution_count": 31,
     "metadata": {},
     "output_type": "execute_result"
    }
   ],
   "source": [
    "list(filter(even,lst))"
   ]
  },
  {
   "cell_type": "code",
   "execution_count": 34,
   "id": "f1285589",
   "metadata": {},
   "outputs": [
    {
     "data": {
      "text/plain": [
       "[2, 4, 56, 56, 0]"
      ]
     },
     "execution_count": 34,
     "metadata": {},
     "output_type": "execute_result"
    }
   ],
   "source": [
    "list(filter(lambda num:num%2==0,lst))"
   ]
  },
  {
   "cell_type": "code",
   "execution_count": 36,
   "id": "566d054e",
   "metadata": {},
   "outputs": [
    {
     "data": {
      "text/plain": [
       "[False, True, False, True, True, False, True, False, True]"
      ]
     },
     "execution_count": 36,
     "metadata": {},
     "output_type": "execute_result"
    }
   ],
   "source": [
    "list(map(lambda n:n%2==0,lst))"
   ]
  }
 ],
 "metadata": {
  "kernelspec": {
   "display_name": "Python 3",
   "language": "python",
   "name": "python3"
  },
  "language_info": {
   "codemirror_mode": {
    "name": "ipython",
    "version": 3
   },
   "file_extension": ".py",
   "mimetype": "text/x-python",
   "name": "python",
   "nbconvert_exporter": "python",
   "pygments_lexer": "ipython3",
   "version": "3.9.5"
  }
 },
 "nbformat": 4,
 "nbformat_minor": 5
}
