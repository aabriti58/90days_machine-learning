{
 "cells": [
  {
   "cell_type": "markdown",
   "id": "40bf8f8b",
   "metadata": {},
   "source": [
    "## List Comprehension\n",
    "- provides a concise way to create lists\n",
    "- consists of brackets containing an expression followed by a for clause, then zero or more for or if clauses\n",
    "- all kinds of objects can be put in lists"
   ]
  },
  {
   "cell_type": "code",
   "execution_count": 18,
   "id": "2f9b009f",
   "metadata": {},
   "outputs": [],
   "source": [
    "# normal code\n",
    "\n",
    "lst=[1,2,3,4,5]\n",
    "def lst_sq(l):\n",
    "    for i in l:\n",
    "        lst.append(i*i)\n",
    "    return lst\n"
   ]
  },
  {
   "cell_type": "code",
   "execution_count": 19,
   "id": "53cde941",
   "metadata": {},
   "outputs": [
    {
     "data": {
      "text/plain": [
       "[1, 2, 3, 4, 5, 36, 49]"
      ]
     },
     "execution_count": 19,
     "metadata": {},
     "output_type": "execute_result"
    }
   ],
   "source": [
    "lst_sq([6,7])"
   ]
  },
  {
   "cell_type": "code",
   "execution_count": 20,
   "id": "8df6e168",
   "metadata": {},
   "outputs": [
    {
     "data": {
      "text/plain": [
       "[1, 4, 9, 16, 25]"
      ]
     },
     "execution_count": 20,
     "metadata": {},
     "output_type": "execute_result"
    }
   ],
   "source": [
    "#using lst comprehension\n",
    "lst = [1,2,3,4,5]\n",
    "[i*i for i in lst] #lst comprehension"
   ]
  },
  {
   "cell_type": "code",
   "execution_count": 21,
   "id": "1de2f397",
   "metadata": {},
   "outputs": [
    {
     "data": {
      "text/plain": [
       "[4, 16]"
      ]
     },
     "execution_count": 21,
     "metadata": {},
     "output_type": "execute_result"
    }
   ],
   "source": [
    "[i*i for i in lst if i%2==0]"
   ]
  },
  {
   "cell_type": "markdown",
   "id": "972db16c",
   "metadata": {},
   "source": [
    "## String Formatting"
   ]
  },
  {
   "cell_type": "code",
   "execution_count": 25,
   "id": "b8efa813",
   "metadata": {},
   "outputs": [],
   "source": [
    "def greet(name):\n",
    "    return 'Hey {}'.format(name)"
   ]
  },
  {
   "cell_type": "code",
   "execution_count": 28,
   "id": "2c71e979",
   "metadata": {},
   "outputs": [
    {
     "data": {
      "text/plain": [
       "'Hey Naruto'"
      ]
     },
     "execution_count": 28,
     "metadata": {},
     "output_type": "execute_result"
    }
   ],
   "source": [
    "greet('Naruto')"
   ]
  },
  {
   "cell_type": "code",
   "execution_count": 29,
   "id": "fe227367",
   "metadata": {},
   "outputs": [],
   "source": [
    "#if order is misplaced then desired output won't come...eg\n",
    "def greet(name,age):\n",
    "    return \"Hey {}. Your age is {}\".format(age,name)"
   ]
  },
  {
   "cell_type": "code",
   "execution_count": 32,
   "id": "4025712c",
   "metadata": {},
   "outputs": [
    {
     "data": {
      "text/plain": [
       "'Hey 15. Your age is Naruto'"
      ]
     },
     "execution_count": 32,
     "metadata": {},
     "output_type": "execute_result"
    }
   ],
   "source": [
    "greet('Naruto',15)"
   ]
  },
  {
   "cell_type": "code",
   "execution_count": 33,
   "id": "70f47275",
   "metadata": {},
   "outputs": [],
   "source": [
    "#correcting...\n",
    "def greet(name,age):\n",
    "    return \"Hey {n}. Your age is {a}\".format(a=age,n=name)"
   ]
  },
  {
   "cell_type": "code",
   "execution_count": 35,
   "id": "4d572a74",
   "metadata": {},
   "outputs": [
    {
     "data": {
      "text/plain": [
       "'Hey Naruto. Your age is 15'"
      ]
     },
     "execution_count": 35,
     "metadata": {},
     "output_type": "execute_result"
    }
   ],
   "source": [
    "greet('Naruto',15)"
   ]
  },
  {
   "cell_type": "code",
   "execution_count": 36,
   "id": "32b5743f",
   "metadata": {},
   "outputs": [
    {
     "data": {
      "text/plain": [
       "'Hey Naruto. Your age is 15'"
      ]
     },
     "execution_count": 36,
     "metadata": {},
     "output_type": "execute_result"
    }
   ],
   "source": [
    "def greet(name,age):\n",
    "    return \"Hey {}. Your age is {}\".format(age,name)\n",
    "greet(15,'Naruto')"
   ]
  }
 ],
 "metadata": {
  "kernelspec": {
   "display_name": "Python 3",
   "language": "python",
   "name": "python3"
  },
  "language_info": {
   "codemirror_mode": {
    "name": "ipython",
    "version": 3
   },
   "file_extension": ".py",
   "mimetype": "text/x-python",
   "name": "python",
   "nbconvert_exporter": "python",
   "pygments_lexer": "ipython3",
   "version": "3.9.5"
  }
 },
 "nbformat": 4,
 "nbformat_minor": 5
}
