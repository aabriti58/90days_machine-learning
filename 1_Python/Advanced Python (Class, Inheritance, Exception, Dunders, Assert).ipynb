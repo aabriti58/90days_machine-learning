{
 "cells": [
  {
   "cell_type": "markdown",
   "id": "01187154",
   "metadata": {},
   "source": [
    "## Class"
   ]
  },
  {
   "cell_type": "code",
   "execution_count": 98,
   "id": "d1574a2c",
   "metadata": {},
   "outputs": [],
   "source": [
    "class dog:\n",
    "    def __init__(self,breed,age,color):\n",
    "        self.a = age\n",
    "        self.b = breed\n",
    "        self.c = color\n",
    "    def type(self): #using 'self' to access previous attributes (a,b,c)\n",
    "        return \"The dog is of {} color\".format(self.c)"
   ]
  },
  {
   "cell_type": "markdown",
   "id": "dbf9fbd7",
   "metadata": {},
   "source": [
    "'self' is initialized for object 'doggo' so it takes reference of 'doggo'"
   ]
  },
  {
   "cell_type": "code",
   "execution_count": 99,
   "id": "5daef303",
   "metadata": {},
   "outputs": [],
   "source": [
    "doggo = dog(\"japanese spitz\",5,\"white\") #self "
   ]
  },
  {
   "cell_type": "code",
   "execution_count": 100,
   "id": "864aa524",
   "metadata": {},
   "outputs": [
    {
     "name": "stdout",
     "output_type": "stream",
     "text": [
      "5\n"
     ]
    }
   ],
   "source": [
    "print(doggo.a)"
   ]
  },
  {
   "cell_type": "code",
   "execution_count": 101,
   "id": "b2a4f38a",
   "metadata": {},
   "outputs": [
    {
     "data": {
      "text/plain": [
       "'The dog is of white color'"
      ]
     },
     "execution_count": 101,
     "metadata": {},
     "output_type": "execute_result"
    }
   ],
   "source": [
    "doggo.type()"
   ]
  },
  {
   "cell_type": "markdown",
   "id": "bb8d2779",
   "metadata": {},
   "source": [
    "## Inheritance\n",
    "class 'dalmatian' is inherited from class 'dog' for which super() is needed"
   ]
  },
  {
   "cell_type": "code",
   "execution_count": 102,
   "id": "48feb6ca",
   "metadata": {},
   "outputs": [],
   "source": [
    "class dalmatian(dog):\n",
    "    def __init__(self,breed,age,color,gender):\n",
    "        super().__init__(breed,age,color)\n",
    "        self.g = gender\n",
    "    "
   ]
  },
  {
   "cell_type": "code",
   "execution_count": 103,
   "id": "362808d0",
   "metadata": {},
   "outputs": [],
   "source": [
    "dogs = dalmatian(\"dalmatians\",12,\"b/w\",\"female\")"
   ]
  },
  {
   "cell_type": "code",
   "execution_count": 104,
   "id": "52752627",
   "metadata": {},
   "outputs": [
    {
     "data": {
      "text/plain": [
       "'female'"
      ]
     },
     "execution_count": 104,
     "metadata": {},
     "output_type": "execute_result"
    }
   ],
   "source": [
    "dogs.g"
   ]
  },
  {
   "cell_type": "code",
   "execution_count": 105,
   "id": "02cc410d",
   "metadata": {},
   "outputs": [
    {
     "data": {
      "text/plain": [
       "'dalmatians'"
      ]
     },
     "execution_count": 105,
     "metadata": {},
     "output_type": "execute_result"
    }
   ],
   "source": [
    "dogs.b"
   ]
  },
  {
   "cell_type": "code",
   "execution_count": 106,
   "id": "dcb698f1",
   "metadata": {},
   "outputs": [
    {
     "data": {
      "text/plain": [
       "'The dog is of b/w color'"
      ]
     },
     "execution_count": 106,
     "metadata": {},
     "output_type": "execute_result"
    }
   ],
   "source": [
    "dogs.type()"
   ]
  },
  {
   "cell_type": "markdown",
   "id": "fe9bff4e",
   "metadata": {},
   "source": [
    "## Multiple Inheritance"
   ]
  },
  {
   "cell_type": "code",
   "execution_count": 107,
   "id": "d3d62d72",
   "metadata": {},
   "outputs": [],
   "source": [
    "class A():\n",
    "    def character(self):\n",
    "        print(\"Gon is called\")"
   ]
  },
  {
   "cell_type": "code",
   "execution_count": 108,
   "id": "9a16f0f9",
   "metadata": {},
   "outputs": [],
   "source": [
    "class B(A):                      #B is inheriting from A\n",
    "    def character(self):\n",
    "        print(\"Killua is called\")"
   ]
  },
  {
   "cell_type": "code",
   "execution_count": 109,
   "id": "48db6a7a",
   "metadata": {},
   "outputs": [],
   "source": [
    "class C(A):                      #C is inheriting from A\n",
    "    def character(self):\n",
    "        print(\"Hisoka is called\")\n",
    "    def character1(self):\n",
    "        print(\"Illumi is called\")"
   ]
  },
  {
   "cell_type": "code",
   "execution_count": 110,
   "id": "05e6a7c1",
   "metadata": {},
   "outputs": [],
   "source": [
    "class D(B,C):                    #D is inheriting from B and C\n",
    "    def character(self):\n",
    "        print(\"Chrollo is called\")\n",
    "    def all(self):\n",
    "        C.character(self)\n",
    "        B.character(self)        \n",
    "        A.character(self)  \n",
    "    def cha(self):\n",
    "        print(\"Chrollo is called\")\n",
    "        C.character(self)\n",
    "        B.character(self)\n",
    "        A.character(self)"
   ]
  },
  {
   "cell_type": "code",
   "execution_count": 111,
   "id": "e3efd7d6",
   "metadata": {},
   "outputs": [],
   "source": [
    "d = D()"
   ]
  },
  {
   "cell_type": "code",
   "execution_count": 112,
   "id": "7e5cb500",
   "metadata": {},
   "outputs": [
    {
     "name": "stdout",
     "output_type": "stream",
     "text": [
      "Chrollo is called\n"
     ]
    }
   ],
   "source": [
    "d.character() #calling D"
   ]
  },
  {
   "cell_type": "code",
   "execution_count": 113,
   "id": "fdbf5ceb",
   "metadata": {},
   "outputs": [
    {
     "name": "stdout",
     "output_type": "stream",
     "text": [
      "Illumi is called\n"
     ]
    }
   ],
   "source": [
    "d.character1()"
   ]
  },
  {
   "cell_type": "code",
   "execution_count": 114,
   "id": "d054e68b",
   "metadata": {},
   "outputs": [
    {
     "name": "stdout",
     "output_type": "stream",
     "text": [
      "Gon is called\n"
     ]
    }
   ],
   "source": [
    "A.character(d)"
   ]
  },
  {
   "cell_type": "code",
   "execution_count": 115,
   "id": "665b8c5d",
   "metadata": {},
   "outputs": [
    {
     "name": "stdout",
     "output_type": "stream",
     "text": [
      "Hisoka is called\n",
      "Killua is called\n",
      "Gon is called\n"
     ]
    }
   ],
   "source": [
    "d.all()"
   ]
  },
  {
   "cell_type": "code",
   "execution_count": 116,
   "id": "fde3512a",
   "metadata": {},
   "outputs": [
    {
     "name": "stdout",
     "output_type": "stream",
     "text": [
      "Chrollo is called\n",
      "Hisoka is called\n",
      "Killua is called\n",
      "Gon is called\n"
     ]
    }
   ],
   "source": [
    "d.cha()"
   ]
  },
  {
   "cell_type": "markdown",
   "id": "92f363be",
   "metadata": {},
   "source": [
    "## Exception Handling\n",
    "Unlike errors, exception can be handled during runtime"
   ]
  },
  {
   "cell_type": "code",
   "execution_count": 7,
   "id": "80cda607",
   "metadata": {},
   "outputs": [
    {
     "name": "stdout",
     "output_type": "stream",
     "text": [
      "unsupported operand type(s) for /: 'int' and 'str'\n"
     ]
    }
   ],
   "source": [
    "try:\n",
    "    #block where exception can occur\n",
    "    a = 1\n",
    "    b = 'g'\n",
    "    c = a/b\n",
    "except NameError: #defined by ourselves\n",
    "    print(\"User have not defined the variable\")\n",
    "except Exception as ex:\n",
    "    print(ex)"
   ]
  },
  {
   "cell_type": "code",
   "execution_count": 12,
   "id": "bbeb2f28",
   "metadata": {},
   "outputs": [
    {
     "name": "stdout",
     "output_type": "stream",
     "text": [
      "enter no1:5\n",
      "enter no2:2\n",
      "2.5\n",
      "10\n"
     ]
    }
   ],
   "source": [
    "### try else\n",
    "try:\n",
    "    a = int(input(\"enter no1:\"))\n",
    "    b = int(input(\"enter no2:\"))\n",
    "    c=a/b\n",
    "    d=a*b\n",
    "    print(c)\n",
    "    print(d)\n",
    "except NameError:\n",
    "    print(\"User have not defined the variable\")\n",
    "except ZeroDivisionError:\n",
    "    print(\"Provide number greater than 0\")\n",
    "except Exception as ex:\n",
    "    print(ex)\n",
    "\n",
    "  "
   ]
  },
  {
   "cell_type": "code",
   "execution_count": 9,
   "id": "50fbefa1",
   "metadata": {},
   "outputs": [
    {
     "name": "stdout",
     "output_type": "stream",
     "text": [
      "enter no1:5\n",
      "enter no2:0\n",
      "Provide number greater than 0\n"
     ]
    }
   ],
   "source": [
    "### try else\n",
    "try:\n",
    "    a = int(input(\"enter no1:\"))\n",
    "    b = int(input(\"enter no2:\"))\n",
    "    c=a/b\n",
    "    d=a*b\n",
    "except NameError:\n",
    "    print(\"User have not defined the variable\")\n",
    "except ZeroDivisionError:\n",
    "    print(\"Provide number greater than 0\")\n",
    "except Exception as ex:\n",
    "    print(ex)\n",
    "else:\n",
    "    print(c)\n",
    "    print(d)"
   ]
  },
  {
   "cell_type": "code",
   "execution_count": 14,
   "id": "9c8b47c6",
   "metadata": {},
   "outputs": [
    {
     "name": "stdout",
     "output_type": "stream",
     "text": [
      "enter no1:4\n",
      "enter no2:0\n",
      "Provide number greater than 0\n",
      "Execution completed\n"
     ]
    }
   ],
   "source": [
    "### try else finally\n",
    "### try else\n",
    "try:\n",
    "    a = int(input(\"enter no1:\"))\n",
    "    b = int(input(\"enter no2:\"))\n",
    "    c=a/b\n",
    "    d=a*b\n",
    "except NameError:\n",
    "    print(\"User have not defined the variable\")\n",
    "except ZeroDivisionError:\n",
    "    print(\"Provide number greater than 0\")\n",
    "except Exception as ex:\n",
    "    print(ex)\n",
    "else:\n",
    "    print(c)\n",
    "    print(d)\n",
    "finally:\n",
    "    print(\"Execution completed\")"
   ]
  },
  {
   "cell_type": "markdown",
   "id": "d3ecdf1c",
   "metadata": {},
   "source": [
    "## Custom Exception"
   ]
  },
  {
   "cell_type": "code",
   "execution_count": 15,
   "id": "8e752033",
   "metadata": {},
   "outputs": [],
   "source": [
    "class Error(Exception):\n",
    "    pass\n",
    "class dobException(Error):\n",
    "    pass"
   ]
  },
  {
   "cell_type": "code",
   "execution_count": 18,
   "id": "3a02c01b",
   "metadata": {},
   "outputs": [
    {
     "name": "stdout",
     "output_type": "stream",
     "text": [
      "Enter your DOB:1888\n",
      "Not Eligible for exam\n"
     ]
    }
   ],
   "source": [
    "year = int(input(\"Enter your DOB:\"))\n",
    "age = 2021-year\n",
    "try:\n",
    "    if age<=30 & age>20:\n",
    "        print(\"Eligible for exam\")\n",
    "    else:\n",
    "        raise dobException   #throw\n",
    "except dobException:         #catch\n",
    "    print(\"Not Eligible for exam\")"
   ]
  },
  {
   "cell_type": "markdown",
   "id": "b166ece2",
   "metadata": {},
   "source": [
    "## Magic Methods in classes\n",
    "- also called as __dunders__\n",
    "- has two prefix and two suffix underscores in the method name\n",
    "- commonly used for operator overloading"
   ]
  },
  {
   "cell_type": "code",
   "execution_count": 19,
   "id": "77737659",
   "metadata": {},
   "outputs": [],
   "source": [
    "class dog:\n",
    "    #initialization constructor\n",
    "    def __init__(self,breed,age,color):\n",
    "        self.a = age\n",
    "        self.b = breed\n",
    "        self.c = color\n",
    "        #method present within class\n",
    "    def friendly(self):\n",
    "        print(\"The dog is friendly\")"
   ]
  },
  {
   "cell_type": "code",
   "execution_count": 21,
   "id": "639dfc21",
   "metadata": {},
   "outputs": [],
   "source": [
    "d = dog(12,\"Beagle\",\"White\")"
   ]
  },
  {
   "cell_type": "code",
   "execution_count": 24,
   "id": "c9a76acb",
   "metadata": {},
   "outputs": [
    {
     "name": "stdout",
     "output_type": "stream",
     "text": [
      "<__main__.dog object at 0x000001E892022D60>\n"
     ]
    }
   ],
   "source": [
    "print(d)"
   ]
  },
  {
   "cell_type": "markdown",
   "id": "0709b8a3",
   "metadata": {},
   "source": [
    "Above, the magic method being called is __str__ so by default it displays the above output"
   ]
  },
  {
   "cell_type": "code",
   "execution_count": 25,
   "id": "72c02fab",
   "metadata": {},
   "outputs": [
    {
     "data": {
      "text/plain": [
       "['__class__',\n",
       " '__delattr__',\n",
       " '__dict__',\n",
       " '__dir__',\n",
       " '__doc__',\n",
       " '__eq__',\n",
       " '__format__',\n",
       " '__ge__',\n",
       " '__getattribute__',\n",
       " '__gt__',\n",
       " '__hash__',\n",
       " '__init__',\n",
       " '__init_subclass__',\n",
       " '__le__',\n",
       " '__lt__',\n",
       " '__module__',\n",
       " '__ne__',\n",
       " '__new__',\n",
       " '__reduce__',\n",
       " '__reduce_ex__',\n",
       " '__repr__',\n",
       " '__setattr__',\n",
       " '__sizeof__',\n",
       " '__str__',\n",
       " '__subclasshook__',\n",
       " '__weakref__',\n",
       " 'a',\n",
       " 'b',\n",
       " 'c',\n",
       " 'friendly']"
      ]
     },
     "execution_count": 25,
     "metadata": {},
     "output_type": "execute_result"
    }
   ],
   "source": [
    "dir(d)\n",
    "# all attributes listed below are the magic methods in classes"
   ]
  },
  {
   "cell_type": "code",
   "execution_count": 31,
   "id": "bb5ce87c",
   "metadata": {},
   "outputs": [],
   "source": [
    "#magic method can be override as:\n",
    "class dog:\n",
    "    #initialization constructor\n",
    "    def __init__(self,breed,age,color):\n",
    "        self.a = age\n",
    "        self.b = breed\n",
    "        self.c = color\n",
    "    def __str__(self):\n",
    "        return \"Object has been initialized\"\n",
    "    def __sizeof__(self):\n",
    "        print(\"Size has been displayed\")\n",
    "        #method present within class\n",
    "    def friendly(self):\n",
    "        print(\"The dog is friendly\")"
   ]
  },
  {
   "cell_type": "code",
   "execution_count": 32,
   "id": "3dcb07dc",
   "metadata": {},
   "outputs": [],
   "source": [
    "d = dog(\"Beagle\",12,\"white\")"
   ]
  },
  {
   "cell_type": "code",
   "execution_count": 34,
   "id": "b60fa204",
   "metadata": {},
   "outputs": [
    {
     "name": "stdout",
     "output_type": "stream",
     "text": [
      "Object has been initialized\n"
     ]
    }
   ],
   "source": [
    "print(d) #print(d) has been overridden"
   ]
  },
  {
   "cell_type": "code",
   "execution_count": 33,
   "id": "9504791c",
   "metadata": {},
   "outputs": [
    {
     "name": "stdout",
     "output_type": "stream",
     "text": [
      "Size has been displayed\n"
     ]
    }
   ],
   "source": [
    "d.__sizeof__() #overridding this also"
   ]
  },
  {
   "cell_type": "markdown",
   "id": "58c10310",
   "metadata": {},
   "source": [
    "__new__ is called above __init__ so gets executed first as it is used to create new instance"
   ]
  },
  {
   "cell_type": "code",
   "execution_count": 35,
   "id": "4d460e50",
   "metadata": {},
   "outputs": [],
   "source": [
    "#magic method can be override as:\n",
    "class dog:\n",
    "    def __new__(self,breed,age,color):\n",
    "        print(\"Object new\")\n",
    "    #initialization constructor\n",
    "    def __init__(self,breed,age,color):\n",
    "        self.a = age\n",
    "        self.b = breed\n",
    "        self.c = color\n",
    "    def __str__(self):\n",
    "        return \"Object has been initialized\"\n",
    "    def __sizeof__(self):\n",
    "        print(\"Size has been displayed\")\n",
    "        #method present within class\n",
    "    def friendly(self):\n",
    "        print(\"The dog is friendly\")"
   ]
  },
  {
   "cell_type": "code",
   "execution_count": 38,
   "id": "068318e8",
   "metadata": {},
   "outputs": [
    {
     "name": "stdout",
     "output_type": "stream",
     "text": [
      "Object new\n"
     ]
    }
   ],
   "source": [
    "d = dog(12,\"Beagle\",\"White\")\n"
   ]
  },
  {
   "cell_type": "code",
   "execution_count": 39,
   "id": "cd9a9b88",
   "metadata": {},
   "outputs": [
    {
     "name": "stdout",
     "output_type": "stream",
     "text": [
      "None\n"
     ]
    }
   ],
   "source": [
    "print(d)"
   ]
  },
  {
   "cell_type": "markdown",
   "id": "20ce8584",
   "metadata": {},
   "source": [
    "## Assert Statement\n",
    "- kind of exceptional handling used in logical expression\n",
    "- provides assert statement to check if a given logical expression is true or false\n",
    "- if true, execution will proceed\n",
    "- if false, AssertionError will raise"
   ]
  },
  {
   "cell_type": "code",
   "execution_count": 41,
   "id": "a09accfa",
   "metadata": {},
   "outputs": [
    {
     "ename": "AssertionError",
     "evalue": "",
     "output_type": "error",
     "traceback": [
      "\u001b[1;31m---------------------------------------------------------------------------\u001b[0m",
      "\u001b[1;31mAssertionError\u001b[0m                            Traceback (most recent call last)",
      "\u001b[1;32m<ipython-input-41-8fd67a7ce380>\u001b[0m in \u001b[0;36m<module>\u001b[1;34m\u001b[0m\n\u001b[0;32m      1\u001b[0m \u001b[0mnum\u001b[0m \u001b[1;33m=\u001b[0m \u001b[1;36m10\u001b[0m\u001b[1;33m\u001b[0m\u001b[1;33m\u001b[0m\u001b[0m\n\u001b[1;32m----> 2\u001b[1;33m \u001b[1;32massert\u001b[0m \u001b[0mnum\u001b[0m\u001b[1;33m<\u001b[0m\u001b[1;36m10\u001b[0m\u001b[1;33m\u001b[0m\u001b[1;33m\u001b[0m\u001b[0m\n\u001b[0m",
      "\u001b[1;31mAssertionError\u001b[0m: "
     ]
    }
   ],
   "source": [
    "num = 10\n",
    "assert num<10"
   ]
  },
  {
   "cell_type": "code",
   "execution_count": 44,
   "id": "7da32c37",
   "metadata": {},
   "outputs": [
    {
     "name": "stdout",
     "output_type": "stream",
     "text": [
      "Enter num:2\n",
      "Enter number greater than 10\n"
     ]
    }
   ],
   "source": [
    "try:\n",
    "    num = int(input(\"Enter num:\"))\n",
    "    assert num>10\n",
    "    print(\"The number is greater than 10\")\n",
    "except AssertionError:\n",
    "    print(\"Enter number greater than 10\")"
   ]
  },
  {
   "cell_type": "code",
   "execution_count": null,
   "id": "8cbab697",
   "metadata": {},
   "outputs": [],
   "source": []
  },
  {
   "cell_type": "code",
   "execution_count": null,
   "id": "19380dd8",
   "metadata": {},
   "outputs": [],
   "source": []
  }
 ],
 "metadata": {
  "kernelspec": {
   "display_name": "Python 3",
   "language": "python",
   "name": "python3"
  },
  "language_info": {
   "codemirror_mode": {
    "name": "ipython",
    "version": 3
   },
   "file_extension": ".py",
   "mimetype": "text/x-python",
   "name": "python",
   "nbconvert_exporter": "python",
   "pygments_lexer": "ipython3",
   "version": "3.9.5"
  }
 },
 "nbformat": 4,
 "nbformat_minor": 5
}
