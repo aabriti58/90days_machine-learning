{
 "cells": [
  {
   "cell_type": "code",
   "execution_count": 1,
   "id": "b9e43861",
   "metadata": {},
   "outputs": [],
   "source": [
    "lst1 = [1,2,3,4]\n",
    "lst2 = lst1 #lst2 will be assigned to lst1"
   ]
  },
  {
   "cell_type": "code",
   "execution_count": 2,
   "id": "a9e8cd79",
   "metadata": {},
   "outputs": [
    {
     "data": {
      "text/plain": [
       "([1, 2, 3, 4], [1, 2, 3, 4])"
      ]
     },
     "execution_count": 2,
     "metadata": {},
     "output_type": "execute_result"
    }
   ],
   "source": [
    "lst1,lst2"
   ]
  },
  {
   "cell_type": "code",
   "execution_count": 3,
   "id": "1fb42553",
   "metadata": {},
   "outputs": [],
   "source": [
    "lst2[1]=10000"
   ]
  },
  {
   "cell_type": "code",
   "execution_count": 4,
   "id": "c4f8f2a1",
   "metadata": {},
   "outputs": [
    {
     "data": {
      "text/plain": [
       "([1, 10000, 3, 4], [1, 10000, 3, 4])"
      ]
     },
     "execution_count": 4,
     "metadata": {},
     "output_type": "execute_result"
    }
   ],
   "source": [
    "lst2,lst1"
   ]
  },
  {
   "cell_type": "markdown",
   "id": "1769ffde",
   "metadata": {},
   "source": [
    "changing the 2nd address of lst2 also changes the 2nd address of lst1 as they are pointing to same memory location\n",
    "\n",
    "## Shallow copy\n"
   ]
  },
  {
   "cell_type": "code",
   "execution_count": 6,
   "id": "fcc7f74f",
   "metadata": {},
   "outputs": [],
   "source": [
    "lst1=[1,2,3,4]\n",
    "lst2 = lst1.copy()"
   ]
  },
  {
   "cell_type": "code",
   "execution_count": 7,
   "id": "a31a92ab",
   "metadata": {},
   "outputs": [
    {
     "data": {
      "text/plain": [
       "([1, 2, 3, 4], [1, 2, 3, 4])"
      ]
     },
     "execution_count": 7,
     "metadata": {},
     "output_type": "execute_result"
    }
   ],
   "source": [
    "lst1,lst2"
   ]
  },
  {
   "cell_type": "code",
   "execution_count": 8,
   "id": "c55ba173",
   "metadata": {},
   "outputs": [],
   "source": [
    "lst2[1] =10000"
   ]
  },
  {
   "cell_type": "code",
   "execution_count": 9,
   "id": "d6cd1ebe",
   "metadata": {},
   "outputs": [
    {
     "data": {
      "text/plain": [
       "([1, 2, 3, 4], [1, 10000, 3, 4])"
      ]
     },
     "execution_count": 9,
     "metadata": {},
     "output_type": "execute_result"
    }
   ],
   "source": [
    "lst1,lst2"
   ]
  },
  {
   "cell_type": "code",
   "execution_count": 10,
   "id": "28695944",
   "metadata": {},
   "outputs": [],
   "source": [
    "#shallow copy with respect to nested list\n",
    "lst1=[[1,2,3],[4,5,6]]\n",
    "lst2=lst1.copy()"
   ]
  },
  {
   "cell_type": "code",
   "execution_count": 11,
   "id": "f7b6ba7c",
   "metadata": {},
   "outputs": [
    {
     "data": {
      "text/plain": [
       "([[1, 2, 3], [4, 5, 6]], [[1, 2, 3], [4, 5, 6]])"
      ]
     },
     "execution_count": 11,
     "metadata": {},
     "output_type": "execute_result"
    }
   ],
   "source": [
    "lst1,lst2"
   ]
  },
  {
   "cell_type": "code",
   "execution_count": 12,
   "id": "305805f2",
   "metadata": {},
   "outputs": [],
   "source": [
    "lst1[1][1] =1000"
   ]
  },
  {
   "cell_type": "code",
   "execution_count": 13,
   "id": "4af2f8d3",
   "metadata": {},
   "outputs": [
    {
     "data": {
      "text/plain": [
       "([[1, 2, 3], [4, 1000, 6]], [[1, 2, 3], [4, 1000, 6]])"
      ]
     },
     "execution_count": 13,
     "metadata": {},
     "output_type": "execute_result"
    }
   ],
   "source": [
    "lst1,lst2"
   ]
  },
  {
   "cell_type": "markdown",
   "id": "efd63c0c",
   "metadata": {},
   "source": [
    "Whenever, making a nested list [1,2,3,4] is considered as collection of items and inside 1,2,3,4 are the objects. This will be referred by both lst1 and lst2.\n",
    "So, in the above code the obj of lst1 and lst2 points to same memory address.\n",
    "\n",
    "But, below code shows that:<br>\n",
    "when we have multiple items, and then we append another item to it, it won't refer to the same memory.\n"
   ]
  },
  {
   "cell_type": "code",
   "execution_count": 15,
   "id": "71232032",
   "metadata": {},
   "outputs": [],
   "source": [
    "lst1.append([7,8,9])"
   ]
  },
  {
   "cell_type": "code",
   "execution_count": 16,
   "id": "bf9d694a",
   "metadata": {},
   "outputs": [
    {
     "data": {
      "text/plain": [
       "([[1, 2, 3], [4, 1000, 6], [7, 8, 9]], [[1, 2, 3], [4, 1000, 6]])"
      ]
     },
     "execution_count": 16,
     "metadata": {},
     "output_type": "execute_result"
    }
   ],
   "source": [
    "lst1,lst2"
   ]
  },
  {
   "cell_type": "markdown",
   "id": "5c0fd36d",
   "metadata": {},
   "source": [
    "## Deep copy\n"
   ]
  },
  {
   "cell_type": "code",
   "execution_count": 17,
   "id": "dbb8dcc8",
   "metadata": {},
   "outputs": [],
   "source": [
    "import copy\n",
    "lst1=[1,2,3]\n",
    "lst2=copy.deepcopy(lst1)"
   ]
  },
  {
   "cell_type": "code",
   "execution_count": 18,
   "id": "f276661c",
   "metadata": {},
   "outputs": [],
   "source": [
    "lst2[1]=10000"
   ]
  },
  {
   "cell_type": "code",
   "execution_count": 19,
   "id": "b06e3e9d",
   "metadata": {},
   "outputs": [
    {
     "data": {
      "text/plain": [
       "([1, 2, 3], [1, 10000, 3])"
      ]
     },
     "execution_count": 19,
     "metadata": {},
     "output_type": "execute_result"
    }
   ],
   "source": [
    "lst1,lst2"
   ]
  },
  {
   "cell_type": "markdown",
   "id": "b14d6a8b",
   "metadata": {},
   "source": [
    "In a single dimensional list(not nested),<br>shallow == deep copy"
   ]
  },
  {
   "cell_type": "code",
   "execution_count": 20,
   "id": "6214a9bd",
   "metadata": {},
   "outputs": [],
   "source": [
    "lst1=[[1,2,3],[4,5,6]]\n",
    "lst2=copy.deepcopy(lst1)"
   ]
  },
  {
   "cell_type": "code",
   "execution_count": 21,
   "id": "071b9d3d",
   "metadata": {},
   "outputs": [],
   "source": [
    "lst2[1][0] = 100"
   ]
  },
  {
   "cell_type": "code",
   "execution_count": 22,
   "id": "32c518cb",
   "metadata": {},
   "outputs": [
    {
     "data": {
      "text/plain": [
       "([[1, 2, 3], [4, 5, 6]], [[1, 2, 3], [100, 5, 6]])"
      ]
     },
     "execution_count": 22,
     "metadata": {},
     "output_type": "execute_result"
    }
   ],
   "source": [
    "lst1,lst2"
   ]
  },
  {
   "cell_type": "markdown",
   "id": "e50327f1",
   "metadata": {},
   "source": [
    "But with nested list,<br>shallow != deep copy<br>\n",
    "separate memory location is created for every objects"
   ]
  },
  {
   "cell_type": "code",
   "execution_count": null,
   "id": "2f37d995",
   "metadata": {},
   "outputs": [],
   "source": []
  },
  {
   "cell_type": "code",
   "execution_count": null,
   "id": "b76789fe",
   "metadata": {},
   "outputs": [],
   "source": []
  },
  {
   "cell_type": "code",
   "execution_count": null,
   "id": "2deeabf1",
   "metadata": {},
   "outputs": [],
   "source": []
  },
  {
   "cell_type": "code",
   "execution_count": null,
   "id": "48d736c6",
   "metadata": {},
   "outputs": [],
   "source": []
  },
  {
   "cell_type": "code",
   "execution_count": null,
   "id": "f0ccdb3f",
   "metadata": {},
   "outputs": [],
   "source": []
  },
  {
   "cell_type": "code",
   "execution_count": null,
   "id": "c6b2c493",
   "metadata": {},
   "outputs": [],
   "source": []
  }
 ],
 "metadata": {
  "kernelspec": {
   "display_name": "Python 3",
   "language": "python",
   "name": "python3"
  },
  "language_info": {
   "codemirror_mode": {
    "name": "ipython",
    "version": 3
   },
   "file_extension": ".py",
   "mimetype": "text/x-python",
   "name": "python",
   "nbconvert_exporter": "python",
   "pygments_lexer": "ipython3",
   "version": "3.9.5"
  }
 },
 "nbformat": 4,
 "nbformat_minor": 5
}
